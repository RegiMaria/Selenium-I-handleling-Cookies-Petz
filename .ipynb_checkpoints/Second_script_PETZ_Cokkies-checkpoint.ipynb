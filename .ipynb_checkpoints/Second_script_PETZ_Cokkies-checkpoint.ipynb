{
 "cells": [
  {
   "cell_type": "code",
   "execution_count": 6,
   "id": "7ea31cd5-4113-4b2d-b741-4432bd1d0455",
   "metadata": {
    "tags": []
   },
   "outputs": [],
   "source": [
    "from selenium import webdriver\n",
    "from selenium.webdriver.common.by import By\n",
    "from selenium.webdriver.support.ui import WebDriverWait\n",
    "from selenium.webdriver.support import expected_conditions as EC\n",
    "from selenium.webdriver.common.action_chains import ActionChains\n",
    "import time"
   ]
  },
  {
   "cell_type": "code",
   "execution_count": 15,
   "id": "e93a8e29-b7fd-4472-aafb-026971f5bc59",
   "metadata": {
    "tags": []
   },
   "outputs": [],
   "source": [
    "class PetzPage:\n",
    "    def __init__(self, driver):\n",
    "        self.driver = driver\n",
    "        self.aceitar_cookies()\n",
    "\n",
    "    def aceitar_cookies(self):\n",
    "       \n",
    "        cookies_aparece_localiza = (By.ID, 'onetrust-accept-btn-handler')\n",
    "        try:\n",
    "            cookies_aparece = self.wait_and_get_element(*cookies_aparece_localiza, timeout=10)\n",
    "            \n",
    "           \n",
    "            actions = ActionChains(self.driver)\n",
    "            actions.move_to_element(cookies_aparece).perform()\n",
    "            \n",
    "            botao_accept_cookies = (By.ID, 'onetrust-accept-btn-handler')\n",
    "            botao_aceitar = self.wait_and_get_element(*botao_accept_cookies)\n",
    "            \n",
    "          \n",
    "            actions.click( botao_aceitar).perform()\n",
    "        except TimeoutException:\n",
    "           \n",
    "            pass\n",
    "\n",
    "    def wait_and_get_element(self, by, value, timeout=10):\n",
    "        return WebDriverWait(self.driver, timeout).until(\n",
    "            EC.presence_of_element_located((by, value))\n",
    "        )\n",
    "\n",
    "\n",
    "driver = webdriver.Chrome()\n",
    "url = \"https://www.petz.com.br/\"\n",
    "driver.get(url)\n",
    "petz_page = PetzPage(driver)\n",
    "\n",
    "\n"
   ]
  },
  {
   "cell_type": "code",
   "execution_count": null,
   "id": "6a641a35-c15e-47c1-9aaf-9f526f584050",
   "metadata": {},
   "outputs": [],
   "source": [
    " # Scroll para o elemento\n",
    "            '''actions = ActionChains(self.driver)\n",
    "            actions.move_to_element(cookies_notice).perform()\n",
    "            \n",
    "            accept_button_locator = (By.ID, 'onetrust-accept-btn-handler')\n",
    "            accept_button = self.wait_and_get_element(*accept_button_locator)\n",
    "            \n",
    "            # Clique no botão de aceitar usando ActionChains\n",
    "            actions.click(accept_button).perform()'''"
   ]
  },
  {
   "cell_type": "code",
   "execution_count": 9,
   "id": "fd6f8eaf-6df8-46a5-ac0c-d75030198079",
   "metadata": {
    "tags": []
   },
   "outputs": [],
   "source": [
    "#Uso de actionchain do selenium:"
   ]
  },
  {
   "cell_type": "code",
   "execution_count": null,
   "id": "2463761f-b6c8-47d6-a3d7-34441bc74406",
   "metadata": {},
   "outputs": [],
   "source": [
    "'''Claro, vou explicar cada parte dessa seção do código:\n",
    "\n",
    "actions = ActionChains(self.driver): Aqui, criamos uma instância da classe ActionChains passando o objeto self.driver (o navegador) como argumento. ActionChains é uma classe fornecida pelo Selenium que permite realizar ações do mouse e do teclado.\n",
    "\n",
    "actions.move_to_element(cookies_notice).perform(): Utilizamos o método move_to_element para mover o cursor do mouse até o elemento identificado pelo cookies_notice. Isso é feito para garantir que o botão de aceitar cookies esteja visível na tela, pois alguns elementos podem exigir que estejam visíveis antes de serem clicados. O método perform() executa a ação.\n",
    "\n",
    "accept_button_locator = (By.ID, 'onetrust-accept-btn-handler'): Definimos o localizador para o botão de aceitar cookies.\n",
    "\n",
    "accept_button = self.wait_and_get_element(*accept_button_locator): Utilizamos o método wait_and_get_element para aguardar até que o botão de aceitar cookies esteja presente na página e, em seguida, atribuímos esse elemento à variável accept_button.\n",
    "\n",
    "actions.click(accept_button).perform(): Agora, usamos ActionChains para clicar no botão de aceitar cookies. O método click recebe o elemento (accept_button) como argumento, e perform() executa a ação.\n",
    "\n",
    "Essencialmente, essa sequência de ações realiza um movimento do mouse até o elemento \"Aviso de cookies\" \n",
    "para garantir que ele esteja visível, aguarda até que o botão de aceitar cookies esteja presente \n",
    "e então realiza um clique nesse botão. Isso ajuda a contornar possíveis problemas em que o botão não \n",
    "está visível sem um movimento prévio do mouse.'''\n",
    "\n",
    "\n",
    "\n",
    "\n",
    "\n",
    "\n"
   ]
  },
  {
   "cell_type": "code",
   "execution_count": 16,
   "id": "251c919d-b8c0-4e42-8a22-2de83e4c4e32",
   "metadata": {},
   "outputs": [],
   "source": [
    "#com correção de redundancia:"
   ]
  },
  {
   "cell_type": "code",
   "execution_count": 1,
   "id": "acb9cdc8-5547-4e3d-8daf-5fbb6a731539",
   "metadata": {
    "tags": []
   },
   "outputs": [],
   "source": [
    "from selenium import webdriver\n",
    "from selenium.webdriver.common.by import By\n",
    "from selenium.webdriver.support.ui import WebDriverWait\n",
    "from selenium.webdriver.support import expected_conditions as EC\n",
    "from selenium.webdriver.common.action_chains import ActionChains\n",
    "from selenium.common.exceptions import TimeoutException"
   ]
  },
  {
   "cell_type": "code",
   "execution_count": 2,
   "id": "f501798f-2329-445c-be61-8d3cd59bb570",
   "metadata": {
    "tags": []
   },
   "outputs": [],
   "source": [
    "class PetzPage:\n",
    "    def __init__(self, driver):\n",
    "        self.driver = driver\n",
    "        self.aceitar_cookies()\n",
    "\n",
    "    def aceitar_cookies(self):\n",
    "        # Aguarda até que o aviso de cookies esteja presente\n",
    "        cookies_aparece_localiza = (By.ID, 'onetrust-accept-btn-handler')\n",
    "        try:\n",
    "            cookies_aparece = self.wait_and_get_element(*cookies_aparece_localiza, timeout=10)\n",
    "            \n",
    "            # Scroll para o elemento\n",
    "            actions = ActionChains(self.driver)\n",
    "            actions.move_to_element(cookies_aparece).perform()\n",
    "            \n",
    "            # Clique no botão de aceitar usando ActionChains\n",
    "            actions.click(cookies_aparece).perform()\n",
    "        except TimeoutException:\n",
    "            # Se o aviso de cookies não estiver presente dentro do tempo limite, consideramos que ele não é exibido, e continuamos.\n",
    "            pass\n",
    "\n",
    "    def wait_and_get_element(self, by, value, timeout=10):\n",
    "        return WebDriverWait(self.driver, timeout).until(\n",
    "            EC.presence_of_element_located((by, value))\n",
    "        )\n",
    "\n",
    "# Exemplo de uso\n",
    "driver = webdriver.Chrome()\n",
    "url = \"https://www.petz.com.br/\"\n",
    "driver.get(url)\n",
    "\n",
    "\n",
    "petz_page = PetzPage(driver)\n",
    "\n",
    "\n"
   ]
  },
  {
   "cell_type": "code",
   "execution_count": null,
   "id": "f73016a8-86f6-4f7d-a5a4-87940019e637",
   "metadata": {},
   "outputs": [],
   "source": []
  }
 ],
 "metadata": {
  "kernelspec": {
   "display_name": "Python 3 (ipykernel)",
   "language": "python",
   "name": "python3"
  },
  "language_info": {
   "codemirror_mode": {
    "name": "ipython",
    "version": 3
   },
   "file_extension": ".py",
   "mimetype": "text/x-python",
   "name": "python",
   "nbconvert_exporter": "python",
   "pygments_lexer": "ipython3",
   "version": "3.11.5"
  }
 },
 "nbformat": 4,
 "nbformat_minor": 5
}
