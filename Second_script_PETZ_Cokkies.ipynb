{
 "cells": [
  {
   "cell_type": "code",
   "execution_count": 4,
   "id": "7ea31cd5-4113-4b2d-b741-4432bd1d0455",
   "metadata": {
    "tags": []
   },
   "outputs": [],
   "source": [
    "from selenium import webdriver\n",
    "from selenium.webdriver.common.by import By\n",
    "from selenium.webdriver.support.ui import WebDriverWait\n",
    "from selenium.webdriver.support import expected_conditions as EC\n",
    "from selenium.webdriver.common.action_chains import ActionChains\n",
    "import time"
   ]
  },
  {
   "cell_type": "code",
   "execution_count": 5,
   "id": "e93a8e29-b7fd-4472-aafb-026971f5bc59",
   "metadata": {
    "tags": []
   },
   "outputs": [],
   "source": [
    "class PetzPage:\n",
    "    def __init__(self, driver):\n",
    "        self.driver = driver\n",
    "        self.aceitar_cookies()\n",
    "\n",
    "    def aceitar_cookies(self):\n",
    "       \n",
    "        cookies_aparece_localiza = (By.ID, 'onetrust-accept-btn-handler')\n",
    "        try:\n",
    "            cookies_aparece = self.wait_and_get_element(*cookies_aparece_localiza, timeout=10)\n",
    "            \n",
    "           \n",
    "            actions = ActionChains(self.driver)\n",
    "            actions.move_to_element(cookies_aparece).perform()\n",
    "            \n",
    "            botao_accept_cookies = (By.ID, 'onetrust-accept-btn-handler')\n",
    "            botao_aceitar = self.wait_and_get_element(*botao_accept_cookies)\n",
    "            \n",
    "          \n",
    "            actions.click( botao_aceitar).perform()\n",
    "        except TimeoutException:\n",
    "           \n",
    "            pass\n",
    "\n",
    "    def wait_and_get_element(self, by, value, timeout=10):\n",
    "        return WebDriverWait(self.driver, timeout).until(\n",
    "            EC.presence_of_element_located((by, value))\n",
    "        )\n",
    "\n",
    "\n",
    "driver = webdriver.Chrome()\n",
    "url = \"https://www.petz.com.br/\"\n",
    "driver.get(url)\n",
    "petz_page = PetzPage(driver)\n",
    "\n",
    "\n"
   ]
  }
 ],
 "metadata": {
  "kernelspec": {
   "display_name": "Python 3 (ipykernel)",
   "language": "python",
   "name": "python3"
  },
  "language_info": {
   "codemirror_mode": {
    "name": "ipython",
    "version": 3
   },
   "file_extension": ".py",
   "mimetype": "text/x-python",
   "name": "python",
   "nbconvert_exporter": "python",
   "pygments_lexer": "ipython3",
   "version": "3.11.5"
  }
 },
 "nbformat": 4,
 "nbformat_minor": 5
}
